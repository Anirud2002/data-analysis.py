{
 "cells": [
  {
   "cell_type": "code",
   "execution_count": 1,
   "id": "1a5c8d4a",
   "metadata": {},
   "outputs": [],
   "source": [
    "import pandas as pd\n",
    "import numpy"
   ]
  },
  {
   "cell_type": "markdown",
   "id": "29bc6bf0",
   "metadata": {},
   "source": [
    "### Pandas series"
   ]
  },
  {
   "cell_type": "code",
   "execution_count": 7,
   "id": "b027e96e",
   "metadata": {},
   "outputs": [],
   "source": [
    "# Its same like array but we get indexing by default\n",
    "g7_pop = pd.Series([12.23, 23.34, 45.56, 67.78], dtype=float)"
   ]
  },
  {
   "cell_type": "code",
   "execution_count": 6,
   "id": "7a46f3c2",
   "metadata": {
    "scrolled": false
   },
   "outputs": [
    {
     "data": {
      "text/plain": [
       "0    12.23\n",
       "1    23.34\n",
       "2    45.56\n",
       "3    67.78\n",
       "dtype: float64"
      ]
     },
     "execution_count": 6,
     "metadata": {},
     "output_type": "execute_result"
    }
   ],
   "source": [
    "g7_pop"
   ]
  },
  {
   "cell_type": "code",
   "execution_count": 6,
   "id": "3e54d4e9",
   "metadata": {},
   "outputs": [
    {
     "data": {
      "text/plain": [
       "1    23.34\n",
       "2    45.56\n",
       "3    67.78\n",
       "dtype: float64"
      ]
     },
     "execution_count": 6,
     "metadata": {},
     "output_type": "execute_result"
    }
   ],
   "source": [
    "g7_pop[g7_pop > 20]"
   ]
  },
  {
   "cell_type": "code",
   "execution_count": 7,
   "id": "6c7ebaa2",
   "metadata": {},
   "outputs": [
    {
     "data": {
      "text/plain": [
       "12.23"
      ]
     },
     "execution_count": 7,
     "metadata": {},
     "output_type": "execute_result"
    }
   ],
   "source": [
    "g7_pop[0]"
   ]
  },
  {
   "cell_type": "code",
   "execution_count": 8,
   "id": "c1510e16",
   "metadata": {},
   "outputs": [
    {
     "data": {
      "text/plain": [
       "numpy.ndarray"
      ]
     },
     "execution_count": 8,
     "metadata": {},
     "output_type": "execute_result"
    }
   ],
   "source": [
    "type(g7_pop.values)"
   ]
  },
  {
   "cell_type": "code",
   "execution_count": 9,
   "id": "30fec39d",
   "metadata": {},
   "outputs": [
    {
     "data": {
      "text/plain": [
       "dtype('float64')"
      ]
     },
     "execution_count": 9,
     "metadata": {},
     "output_type": "execute_result"
    }
   ],
   "source": [
    "g7_pop.dtype"
   ]
  },
  {
   "cell_type": "code",
   "execution_count": 13,
   "id": "6eb95bc5",
   "metadata": {},
   "outputs": [],
   "source": [
    "g7_pop.index = [\n",
    "    'Nepal',\n",
    "    'India',\n",
    "    'China',\n",
    "    'Canada'\n",
    "]"
   ]
  },
  {
   "cell_type": "code",
   "execution_count": 14,
   "id": "eecd192c",
   "metadata": {},
   "outputs": [
    {
     "data": {
      "text/plain": [
       "Nepal     12.23\n",
       "India     23.34\n",
       "China     45.56\n",
       "Canada    67.78\n",
       "dtype: float64"
      ]
     },
     "execution_count": 14,
     "metadata": {},
     "output_type": "execute_result"
    }
   ],
   "source": [
    "g7_pop"
   ]
  },
  {
   "cell_type": "markdown",
   "id": "9f0a27f7",
   "metadata": {},
   "source": [
    "### Slicing and Indexing"
   ]
  },
  {
   "cell_type": "code",
   "execution_count": 15,
   "id": "9d84047d",
   "metadata": {},
   "outputs": [
    {
     "data": {
      "text/plain": [
       "12.23"
      ]
     },
     "execution_count": 15,
     "metadata": {},
     "output_type": "execute_result"
    }
   ],
   "source": [
    "g7_pop['Nepal']"
   ]
  },
  {
   "cell_type": "code",
   "execution_count": 16,
   "id": "dde2f0f8",
   "metadata": {},
   "outputs": [
    {
     "data": {
      "text/plain": [
       "Nepal     12.23\n",
       "Canada    67.78\n",
       "dtype: float64"
      ]
     },
     "execution_count": 16,
     "metadata": {},
     "output_type": "execute_result"
    }
   ],
   "source": [
    "g7_pop[['Nepal', 'Canada']]"
   ]
  },
  {
   "cell_type": "markdown",
   "id": "971f25a2",
   "metadata": {},
   "source": [
    "(This will return new series)"
   ]
  },
  {
   "cell_type": "code",
   "execution_count": 8,
   "id": "0e0474b4",
   "metadata": {},
   "outputs": [
    {
     "data": {
      "text/plain": [
       "12.23"
      ]
     },
     "execution_count": 8,
     "metadata": {},
     "output_type": "execute_result"
    }
   ],
   "source": [
    "# If you want to select numerically:\n",
    "g7_pop.iloc[0]"
   ]
  },
  {
   "cell_type": "code",
   "execution_count": 19,
   "id": "17a403b2",
   "metadata": {},
   "outputs": [
    {
     "data": {
      "text/plain": [
       "Nepal    12.23\n",
       "China    45.56\n",
       "dtype: float64"
      ]
     },
     "execution_count": 19,
     "metadata": {},
     "output_type": "execute_result"
    }
   ],
   "source": [
    "g7_pop.iloc[[0, 2]]"
   ]
  },
  {
   "cell_type": "markdown",
   "id": "3624c77b",
   "metadata": {},
   "source": [
    "(Unlike typical list slicing, the last element is also included in pandas series)"
   ]
  },
  {
   "cell_type": "code",
   "execution_count": 20,
   "id": "d63c2dab",
   "metadata": {},
   "outputs": [
    {
     "data": {
      "text/plain": [
       "Nepal     12.23\n",
       "India     23.34\n",
       "China     45.56\n",
       "Canada    67.78\n",
       "dtype: float64"
      ]
     },
     "execution_count": 20,
     "metadata": {},
     "output_type": "execute_result"
    }
   ],
   "source": [
    "g7_pop['Nepal': 'Canada']"
   ]
  },
  {
   "cell_type": "markdown",
   "id": "ca89e24d",
   "metadata": {},
   "source": [
    "(But this has the same typical feature in iloc)"
   ]
  },
  {
   "cell_type": "code",
   "execution_count": 21,
   "id": "87b03944",
   "metadata": {},
   "outputs": [
    {
     "data": {
      "text/plain": [
       "Nepal    12.23\n",
       "India    23.34\n",
       "China    45.56\n",
       "dtype: float64"
      ]
     },
     "execution_count": 21,
     "metadata": {},
     "output_type": "execute_result"
    }
   ],
   "source": [
    "g7_pop.iloc[0: len(g7_pop) - 1]"
   ]
  },
  {
   "cell_type": "markdown",
   "id": "79513449",
   "metadata": {},
   "source": [
    "### Conditional Selection (Boolean arrays)"
   ]
  },
  {
   "cell_type": "code",
   "execution_count": 22,
   "id": "f7741f08",
   "metadata": {},
   "outputs": [
    {
     "data": {
      "text/plain": [
       "Nepal     False\n",
       "India     False\n",
       "China      True\n",
       "Canada     True\n",
       "dtype: bool"
      ]
     },
     "execution_count": 22,
     "metadata": {},
     "output_type": "execute_result"
    }
   ],
   "source": [
    "g7_pop > 25"
   ]
  },
  {
   "cell_type": "code",
   "execution_count": 23,
   "id": "ad161043",
   "metadata": {},
   "outputs": [
    {
     "data": {
      "text/plain": [
       "China     45.56\n",
       "Canada    67.78\n",
       "dtype: float64"
      ]
     },
     "execution_count": 23,
     "metadata": {},
     "output_type": "execute_result"
    }
   ],
   "source": [
    "g7_pop[g7_pop > 25]"
   ]
  },
  {
   "cell_type": "markdown",
   "id": "dac83c2c",
   "metadata": {},
   "source": [
    "(This is the mean of only china and canada population)"
   ]
  },
  {
   "cell_type": "code",
   "execution_count": 25,
   "id": "19e32dac",
   "metadata": {},
   "outputs": [
    {
     "data": {
      "text/plain": [
       "56.67"
      ]
     },
     "execution_count": 25,
     "metadata": {},
     "output_type": "execute_result"
    }
   ],
   "source": [
    "g7_pop[g7_pop > 25].mean()"
   ]
  },
  {
   "cell_type": "code",
   "execution_count": 26,
   "id": "0e34ae5b",
   "metadata": {},
   "outputs": [
    {
     "data": {
      "text/plain": [
       "Canada    67.78\n",
       "dtype: float64"
      ]
     },
     "execution_count": 26,
     "metadata": {},
     "output_type": "execute_result"
    }
   ],
   "source": [
    "g7_pop[g7_pop > g7_pop[g7_pop > 25].mean()]"
   ]
  },
  {
   "cell_type": "code",
   "execution_count": null,
   "id": "0b9409d7",
   "metadata": {},
   "outputs": [],
   "source": []
  }
 ],
 "metadata": {
  "kernelspec": {
   "display_name": "Python 3",
   "language": "python",
   "name": "python3"
  },
  "language_info": {
   "codemirror_mode": {
    "name": "ipython",
    "version": 3
   },
   "file_extension": ".py",
   "mimetype": "text/x-python",
   "name": "python",
   "nbconvert_exporter": "python",
   "pygments_lexer": "ipython3",
   "version": "3.8.8"
  }
 },
 "nbformat": 4,
 "nbformat_minor": 5
}
